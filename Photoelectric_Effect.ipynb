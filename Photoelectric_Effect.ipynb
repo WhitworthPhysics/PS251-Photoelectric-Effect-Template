{
  "nbformat": 4,
  "nbformat_minor": 0,
  "metadata": {
    "colab": {
      "name": "Photoelectric Effect.ipynb",
      "provenance": [],
      "collapsed_sections": [],
      "authorship_tag": "ABX9TyPD2//jpugIXOGgmwSO6XKW"
    },
    "kernelspec": {
      "name": "python3",
      "display_name": "Python 3"
    },
    "language_info": {
      "name": "python"
    }
  },
  "cells": [
    {
      "cell_type": "markdown",
      "metadata": {
        "id": "q3RGqGK9Scls"
      },
      "source": [
        "Partner: \n",
        "\n",
        "Date: "
      ]
    },
    {
      "cell_type": "markdown",
      "metadata": {
        "id": "WRrSX_44WNmo"
      },
      "source": [
        "# Objectives\n",
        "* To verify that there is a linear relationship between stopping voltage and the inverse wavelength of the exciting light in a photoelectric effect apparatus.\n",
        "* To calculate Planck's constant from the slope of the best fit line to the stopping voltage vs. inverse wavelength data."
      ]
    },
    {
      "cell_type": "markdown",
      "metadata": {
        "id": "bf9uRh5aTh0C"
      },
      "source": [
        "# Install and import libraries"
      ]
    },
    {
      "cell_type": "code",
      "metadata": {
        "id": "ID4bUeLoSUqf"
      },
      "source": [
        "!pip install whit-phys-util"
      ],
      "execution_count": null,
      "outputs": []
    },
    {
      "cell_type": "code",
      "metadata": {
        "id": "iXrGRQXcT0Qs"
      },
      "source": [
        "import numpy as np\n",
        "import pandas as pd\n",
        "import matplotlib.pyplot as plt\n",
        "import whit_phys_util as buc\n",
        "import scipy.constants as sciConst"
      ],
      "execution_count": null,
      "outputs": []
    },
    {
      "cell_type": "markdown",
      "metadata": {
        "id": "qk5YfEAzT3rK"
      },
      "source": [
        "# Connect to GitHub"
      ]
    },
    {
      "cell_type": "code",
      "metadata": {
        "id": "-yvt5gjGVDQ8"
      },
      "source": [
        "repo = buc.local_repository(\"replace me\")"
      ],
      "execution_count": null,
      "outputs": []
    },
    {
      "cell_type": "markdown",
      "metadata": {
        "id": "j1M-y_icVGWJ"
      },
      "source": [
        "# Equipment and materials\n",
        "| Description | Manufacturer | Model | ID or SN |\n",
        "| ----------- | ------------ | ----- | -------- |\n",
        "| photoelectric effect apparatus | Daedalon | EP-05 | fill in |\n",
        "| mercury arc lamp | PASCO | fill in | fill in |\n",
        "| sodium arc lamp | PASCO | fill in | fill in |\n",
        "| digital multimeter | Fluke | fill in | fill in |\n",
        "| banana cables | --- | --- | --- |\n",
        "| blue and green optical filters | --- | --- | --- |\n",
        "| handheld spectrometer | fill in | fill in | --- |\n",
        "\n",
        "_You should replace the **fill in** entries with appropriate info._\n"
      ]
    },
    {
      "cell_type": "markdown",
      "metadata": {
        "id": "5wARvsKZWp95"
      },
      "source": [
        "# Observations of light sources\n",
        "\n",
        "## Incandescent\n",
        "\n",
        "## Fluorescent\n",
        "\n",
        "## Mercury"
      ]
    },
    {
      "cell_type": "markdown",
      "metadata": {
        "id": "ixiim0TMGZJh"
      },
      "source": [
        "# Import data"
      ]
    },
    {
      "cell_type": "code",
      "metadata": {
        "id": "gQUTtSNBilUI"
      },
      "source": [
        "repo.pull()"
      ],
      "execution_count": null,
      "outputs": []
    },
    {
      "cell_type": "markdown",
      "metadata": {
        "id": "UoOHTv5SJS3Z"
      },
      "source": [
        "# Analysis"
      ]
    },
    {
      "cell_type": "code",
      "metadata": {
        "id": "6k-HHoNXJVFk"
      },
      "source": [
        ""
      ],
      "execution_count": null,
      "outputs": []
    }
  ]
}